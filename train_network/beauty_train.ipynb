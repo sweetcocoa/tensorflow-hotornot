{
 "cells": [
  {
   "cell_type": "code",
   "execution_count": 1,
   "metadata": {},
   "outputs": [],
   "source": [
    "import torch\n",
    "import torch.nn as nn \n",
    "import torchvision\n",
    "import torchvision.transforms as transforms\n",
    "import pandas as pd\n",
    "import numpy as np\n",
    "import os\n",
    "from PIL import Image\n",
    "import dlib\n",
    "import PinkBlack.trainer"
   ]
  },
  {
   "cell_type": "code",
   "execution_count": 2,
   "metadata": {},
   "outputs": [],
   "source": [
    "IMAGE_FOLDER = \"datasets/ImageFolder/\""
   ]
  },
  {
   "cell_type": "code",
   "execution_count": 3,
   "metadata": {},
   "outputs": [
    {
     "name": "stdout",
     "output_type": "stream",
     "text": [
      "(3200, 2)\n",
      "(800, 2)\n"
     ]
    }
   ],
   "source": [
    "df_train = pd.read_csv(\"datasets/train.csv\")\n",
    "df_test = pd.read_csv(\"datasets/test.csv\")\n",
    "print(df_train.shape)\n",
    "print(df_test.shape)"
   ]
  },
  {
   "cell_type": "code",
   "execution_count": 108,
   "metadata": {},
   "outputs": [
    {
     "data": {
      "text/plain": [
       "'.'"
      ]
     },
     "execution_count": 108,
     "metadata": {},
     "output_type": "execute_result"
    }
   ],
   "source": [
    "net = torchvision.models.squeezenet1_1(pretrained=True)\n",
    "net.num_classes = 1\n",
    "net.classifier = nn.Sequential(\n",
    "    nn.Dropout(p=0.5),\n",
    "    nn.Conv2d(512,1, kernel_size=(1,1), stride=(1,1)),\n",
    "    nn.ReLU(inplace=True),\n",
    "    nn.AvgPool2d(kernel_size=13, stride=1, padding=0)\n",
    ")\n",
    "net.cuda()\n",
    "net.train()\n",
    "'.'"
   ]
  },
  {
   "cell_type": "code",
   "execution_count": 5,
   "metadata": {},
   "outputs": [],
   "source": [
    "detector = dlib.get_frontal_face_detector()"
   ]
  },
  {
   "cell_type": "code",
   "execution_count": 34,
   "metadata": {},
   "outputs": [],
   "source": [
    "\n",
    "class BeautySet(torch.utils.data.Dataset):\n",
    "    def __init__(self, df_data, mode='train'):\n",
    "        self.samples = df_data.filename\n",
    "        self.scores = df_data.score\n",
    "        if mode=='train':\n",
    "            self.transform = transforms.Compose([transforms.RandomRotation(10),\n",
    "                                            transforms.RandomResizedCrop((224), scale=(0.7, 1.0)),\n",
    "                                             \n",
    "                                            transforms.RandomHorizontalFlip(),\n",
    "                                            transforms.ToTensor()])\n",
    "        else:\n",
    "            self.transform = transforms.Compose([transforms.Resize((224, 224)),\n",
    "                                            transforms.ToTensor()])\n",
    "    def __len__(self):\n",
    "        return len(self.samples)\n",
    "    \n",
    "    def __getitem__(self, index):\n",
    "        img = Image.open(IMAGE_FOLDER + self.samples[index]).convert(\"RGB\")\n",
    "        dets = detector(np.array(img))\n",
    "        if len(dets) == 0:\n",
    "            dets = [0, 0, img.size[1], img.size[0]]\n",
    "        else:\n",
    "            dets = dets[0]\n",
    "            w, h = dets.right() - dets.left(), dets.bottom() - dets.top()\n",
    "            \n",
    "            dets = [max(0, dets.left() - w // 5),\n",
    "                    max(0, dets.top() - h // 5),\n",
    "                    min(img.width, dets.right() + w // 5),\n",
    "                    min(img.height, dets.bottom() + h // 5)]\n",
    "            img = img.crop(dets)\n",
    "        \n",
    "        return self.transform(img), torch.tensor(self.scores[index])\n",
    "        \n",
    "        \n",
    "        \n",
    "        "
   ]
  },
  {
   "cell_type": "code",
   "execution_count": 106,
   "metadata": {},
   "outputs": [],
   "source": [
    "train_sets = BeautySet(df_train, 'test')\n",
    "test_sets = BeautySet(df_test, 'test')\n",
    "train_loader = torch.utils.data.DataLoader(train_sets, batch_size=32, shuffle=True, pin_memory=True, num_workers=0)\n",
    "test_loader = torch.utils.data.DataLoader(test_sets, batch_size=32, shuffle=False, pin_memory=True, num_workers=0)\n"
   ]
  },
  {
   "cell_type": "code",
   "execution_count": 109,
   "metadata": {},
   "outputs": [],
   "source": [
    "def metric(pred, target):\n",
    "    loss = nn.MSELoss()\n",
    "    with torch.no_grad():\n",
    "        return loss(pred, target)\n",
    "\n",
    "criterion = nn.MSELoss()\n",
    "    "
   ]
  },
  {
   "cell_type": "code",
   "execution_count": 110,
   "metadata": {},
   "outputs": [],
   "source": [
    "trainer = PinkBlack.trainer.Trainer(net=net,\n",
    "                                    train_dataloader=train_loader,\n",
    "                                   val_dataloader=test_loader,\n",
    "                                   criterion=criterion,\n",
    "                                   metric=metric,\n",
    "                                   )"
   ]
  },
  {
   "cell_type": "code",
   "execution_count": 111,
   "metadata": {},
   "outputs": [
    {
     "name": "stdout",
     "output_type": "stream",
     "text": [
      "|----------------|----------------|----------------|----------------|----------------|----------------|\n",
      "|     epoch      |   train_loss   |  train_metric  |    val loss    |   val metric   |      time      |\n",
      "|----------------|----------------|----------------|----------------|----------------|----------------|\n"
     ]
    },
    {
     "name": "stderr",
     "output_type": "stream",
     "text": [
      "                                                                                                                       \r"
     ]
    },
    {
     "name": "stdout",
     "output_type": "stream",
     "text": [
      "|     1-best     |    1.467821    |    1.467821    |    0.536956    |    0.536956    |   88.750288    |\n",
      "|----------------|----------------|----------------|----------------|----------------|----------------|\n"
     ]
    },
    {
     "name": "stderr",
     "output_type": "stream",
     "text": [
      "                                                                                                                       \r"
     ]
    },
    {
     "name": "stdout",
     "output_type": "stream",
     "text": [
      "|       2        |    0.561579    |    0.561579    |    0.717687    |    0.717687    |   88.306579    |\n",
      "|----------------|----------------|----------------|----------------|----------------|----------------|\n"
     ]
    },
    {
     "name": "stderr",
     "output_type": "stream",
     "text": [
      "                                                                                                                       \r"
     ]
    },
    {
     "name": "stdout",
     "output_type": "stream",
     "text": [
      "|       3        |    0.549337    |    0.549337    |    0.666719    |    0.666719    |   87.631858    |\n",
      "|----------------|----------------|----------------|----------------|----------------|----------------|\n"
     ]
    },
    {
     "name": "stderr",
     "output_type": "stream",
     "text": [
      "                                                                                                                       \r"
     ]
    },
    {
     "name": "stdout",
     "output_type": "stream",
     "text": [
      "|       4        |    0.548195    |    0.548195    |    0.640637    |    0.640637    |   89.378845    |\n",
      "|----------------|----------------|----------------|----------------|----------------|----------------|\n"
     ]
    },
    {
     "name": "stderr",
     "output_type": "stream",
     "text": [
      "                                                                                                                       \r"
     ]
    },
    {
     "name": "stdout",
     "output_type": "stream",
     "text": [
      "|     5-best     |    0.516269    |    0.516269    |    0.523467    |    0.523467    |   90.295555    |\n",
      "|----------------|----------------|----------------|----------------|----------------|----------------|\n"
     ]
    }
   ],
   "source": [
    "trainer.train(5)"
   ]
  },
  {
   "cell_type": "code",
   "execution_count": 112,
   "metadata": {},
   "outputs": [],
   "source": [
    "idx = 0"
   ]
  },
  {
   "cell_type": "code",
   "execution_count": 144,
   "metadata": {},
   "outputs": [
    {
     "name": "stdout",
     "output_type": "stream",
     "text": [
      "tensor([[3.0528]], device='cuda:0', grad_fn=<ViewBackward>)\n"
     ]
    },
    {
     "data": {
      "text/plain": [
       "tensor(2.8167)"
      ]
     },
     "execution_count": 144,
     "metadata": {},
     "output_type": "execute_result"
    }
   ],
   "source": [
    "idx += 1\n",
    "print(net(train_sets[idx][0].unsqueeze(0).cuda()))\n",
    "train_sets[idx][1]"
   ]
  },
  {
   "cell_type": "code",
   "execution_count": 147,
   "metadata": {},
   "outputs": [
    {
     "name": "stderr",
     "output_type": "stream",
     "text": [
      "C:\\Users\\sweetcocoa\\Anaconda3\\envs\\pt\\lib\\site-packages\\torch\\onnx\\symbolic.py:131: UserWarning: ONNX export failed on max_pool2d_with_indices because ceil_mode not supported\n",
      "  warnings.warn(\"ONNX export failed on \" + op + \" because \" + msg + \" not supported\")\n"
     ]
    },
    {
     "name": "stdout",
     "output_type": "stream",
     "text": [
      "graph(%0 : Float(1, 3, 224, 224)\n",
      "      %1 : Float(64, 3, 3, 3)\n",
      "      %2 : Float(64)\n",
      "      %3 : Float(16, 64, 1, 1)\n",
      "      %4 : Float(16)\n",
      "      %5 : Float(64, 16, 1, 1)\n",
      "      %6 : Float(64)\n",
      "      %7 : Float(64, 16, 3, 3)\n",
      "      %8 : Float(64)\n",
      "      %9 : Float(16, 128, 1, 1)\n",
      "      %10 : Float(16)\n",
      "      %11 : Float(64, 16, 1, 1)\n",
      "      %12 : Float(64)\n",
      "      %13 : Float(64, 16, 3, 3)\n",
      "      %14 : Float(64)\n",
      "      %15 : Float(32, 128, 1, 1)\n",
      "      %16 : Float(32)\n",
      "      %17 : Float(128, 32, 1, 1)\n",
      "      %18 : Float(128)\n",
      "      %19 : Float(128, 32, 3, 3)\n",
      "      %20 : Float(128)\n",
      "      %21 : Float(32, 256, 1, 1)\n",
      "      %22 : Float(32)\n",
      "      %23 : Float(128, 32, 1, 1)\n",
      "      %24 : Float(128)\n",
      "      %25 : Float(128, 32, 3, 3)\n",
      "      %26 : Float(128)\n",
      "      %27 : Float(48, 256, 1, 1)\n",
      "      %28 : Float(48)\n",
      "      %29 : Float(192, 48, 1, 1)\n",
      "      %30 : Float(192)\n",
      "      %31 : Float(192, 48, 3, 3)\n",
      "      %32 : Float(192)\n",
      "      %33 : Float(48, 384, 1, 1)\n",
      "      %34 : Float(48)\n",
      "      %35 : Float(192, 48, 1, 1)\n",
      "      %36 : Float(192)\n",
      "      %37 : Float(192, 48, 3, 3)\n",
      "      %38 : Float(192)\n",
      "      %39 : Float(64, 384, 1, 1)\n",
      "      %40 : Float(64)\n",
      "      %41 : Float(256, 64, 1, 1)\n",
      "      %42 : Float(256)\n",
      "      %43 : Float(256, 64, 3, 3)\n",
      "      %44 : Float(256)\n",
      "      %45 : Float(64, 512, 1, 1)\n",
      "      %46 : Float(64)\n",
      "      %47 : Float(256, 64, 1, 1)\n",
      "      %48 : Float(256)\n",
      "      %49 : Float(256, 64, 3, 3)\n",
      "      %50 : Float(256)\n",
      "      %51 : Float(1, 512, 1, 1)\n",
      "      %52 : Float(1)) {\n",
      "  %53 : Float(1, 64, 111, 111) = onnx::Conv[dilations=[1, 1], group=1, kernel_shape=[3, 3], pads=[0, 0, 0, 0], strides=[2, 2]](%0, %1, %2), scope: SqueezeNet/Sequential[features]/Conv2d[0]\n",
      "  %54 : Float(1, 64, 111, 111) = onnx::Relu(%53), scope: SqueezeNet/Sequential[features]/ReLU[1]\n",
      "  %55 : int[] = onnx::Constant[value= 3  3 [ CPULongType{2} ]]()\n",
      "  %56 : int[] = onnx::Constant[value= 2  2 [ CPULongType{2} ]]()\n",
      "  %57 : int[] = onnx::Constant[value= 0  0 [ CPULongType{2} ]]()\n",
      "  %58 : int[] = onnx::Constant[value= 1  1 [ CPULongType{2} ]]()\n",
      "  %59 : Long() = onnx::Constant[value={1}](), scope: SqueezeNet/Sequential[features]/MaxPool2d[2]\n",
      "  %60 : Float(1, 64, 55, 55), %61 : Long(1, 64, 55, 55) = aten::max_pool2d_with_indices(%54, %55, %56, %57, %58, %59), scope: SqueezeNet/Sequential[features]/MaxPool2d[2]\n",
      "  %62 : Float(1, 16, 55, 55) = onnx::Conv[dilations=[1, 1], group=1, kernel_shape=[1, 1], pads=[0, 0, 0, 0], strides=[1, 1]](%60, %3, %4), scope: SqueezeNet/Sequential[features]/Fire[3]/Conv2d[squeeze]\n",
      "  %63 : Float(1, 16, 55, 55) = onnx::Relu(%62), scope: SqueezeNet/Sequential[features]/Fire[3]/ReLU[squeeze_activation]\n",
      "  %64 : Float(1, 64, 55, 55) = onnx::Conv[dilations=[1, 1], group=1, kernel_shape=[1, 1], pads=[0, 0, 0, 0], strides=[1, 1]](%63, %5, %6), scope: SqueezeNet/Sequential[features]/Fire[3]/Conv2d[expand1x1]\n",
      "  %65 : Float(1, 64, 55, 55) = onnx::Relu(%64), scope: SqueezeNet/Sequential[features]/Fire[3]/ReLU[expand1x1_activation]\n",
      "  %66 : Float(1, 64, 55, 55) = onnx::Conv[dilations=[1, 1], group=1, kernel_shape=[3, 3], pads=[1, 1, 1, 1], strides=[1, 1]](%63, %7, %8), scope: SqueezeNet/Sequential[features]/Fire[3]/Conv2d[expand3x3]\n",
      "  %67 : Float(1, 64, 55, 55) = onnx::Relu(%66), scope: SqueezeNet/Sequential[features]/Fire[3]/ReLU[expand3x3_activation]\n",
      "  %68 : Float(1, 128, 55, 55) = onnx::Concat[axis=1](%65, %67), scope: SqueezeNet/Sequential[features]/Fire[3]\n",
      "  %69 : Float(1, 16, 55, 55) = onnx::Conv[dilations=[1, 1], group=1, kernel_shape=[1, 1], pads=[0, 0, 0, 0], strides=[1, 1]](%68, %9, %10), scope: SqueezeNet/Sequential[features]/Fire[4]/Conv2d[squeeze]\n",
      "  %70 : Float(1, 16, 55, 55) = onnx::Relu(%69), scope: SqueezeNet/Sequential[features]/Fire[4]/ReLU[squeeze_activation]\n",
      "  %71 : Float(1, 64, 55, 55) = onnx::Conv[dilations=[1, 1], group=1, kernel_shape=[1, 1], pads=[0, 0, 0, 0], strides=[1, 1]](%70, %11, %12), scope: SqueezeNet/Sequential[features]/Fire[4]/Conv2d[expand1x1]\n",
      "  %72 : Float(1, 64, 55, 55) = onnx::Relu(%71), scope: SqueezeNet/Sequential[features]/Fire[4]/ReLU[expand1x1_activation]\n",
      "  %73 : Float(1, 64, 55, 55) = onnx::Conv[dilations=[1, 1], group=1, kernel_shape=[3, 3], pads=[1, 1, 1, 1], strides=[1, 1]](%70, %13, %14), scope: SqueezeNet/Sequential[features]/Fire[4]/Conv2d[expand3x3]\n",
      "  %74 : Float(1, 64, 55, 55) = onnx::Relu(%73), scope: SqueezeNet/Sequential[features]/Fire[4]/ReLU[expand3x3_activation]\n",
      "  %75 : Float(1, 128, 55, 55) = onnx::Concat[axis=1](%72, %74), scope: SqueezeNet/Sequential[features]/Fire[4]\n",
      "  %76 : int[] = onnx::Constant[value= 3  3 [ CPULongType{2} ]]()\n",
      "  %77 : int[] = onnx::Constant[value= 2  2 [ CPULongType{2} ]]()\n",
      "  %78 : int[] = onnx::Constant[value= 0  0 [ CPULongType{2} ]]()\n",
      "  %79 : int[] = onnx::Constant[value= 1  1 [ CPULongType{2} ]]()\n",
      "  %80 : Long() = onnx::Constant[value={1}](), scope: SqueezeNet/Sequential[features]/MaxPool2d[5]\n",
      "  %81 : Float(1, 128, 27, 27), %82 : Long(1, 128, 27, 27) = aten::max_pool2d_with_indices(%75, %76, %77, %78, %79, %80), scope: SqueezeNet/Sequential[features]/MaxPool2d[5]\n",
      "  %83 : Float(1, 32, 27, 27) = onnx::Conv[dilations=[1, 1], group=1, kernel_shape=[1, 1], pads=[0, 0, 0, 0], strides=[1, 1]](%81, %15, %16), scope: SqueezeNet/Sequential[features]/Fire[6]/Conv2d[squeeze]\n",
      "  %84 : Float(1, 32, 27, 27) = onnx::Relu(%83), scope: SqueezeNet/Sequential[features]/Fire[6]/ReLU[squeeze_activation]\n",
      "  %85 : Float(1, 128, 27, 27) = onnx::Conv[dilations=[1, 1], group=1, kernel_shape=[1, 1], pads=[0, 0, 0, 0], strides=[1, 1]](%84, %17, %18), scope: SqueezeNet/Sequential[features]/Fire[6]/Conv2d[expand1x1]\n",
      "  %86 : Float(1, 128, 27, 27) = onnx::Relu(%85), scope: SqueezeNet/Sequential[features]/Fire[6]/ReLU[expand1x1_activation]\n",
      "  %87 : Float(1, 128, 27, 27) = onnx::Conv[dilations=[1, 1], group=1, kernel_shape=[3, 3], pads=[1, 1, 1, 1], strides=[1, 1]](%84, %19, %20), scope: SqueezeNet/Sequential[features]/Fire[6]/Conv2d[expand3x3]\n",
      "  %88 : Float(1, 128, 27, 27) = onnx::Relu(%87), scope: SqueezeNet/Sequential[features]/Fire[6]/ReLU[expand3x3_activation]\n",
      "  %89 : Float(1, 256, 27, 27) = onnx::Concat[axis=1](%86, %88), scope: SqueezeNet/Sequential[features]/Fire[6]\n",
      "  %90 : Float(1, 32, 27, 27) = onnx::Conv[dilations=[1, 1], group=1, kernel_shape=[1, 1], pads=[0, 0, 0, 0], strides=[1, 1]](%89, %21, %22), scope: SqueezeNet/Sequential[features]/Fire[7]/Conv2d[squeeze]\n",
      "  %91 : Float(1, 32, 27, 27) = onnx::Relu(%90), scope: SqueezeNet/Sequential[features]/Fire[7]/ReLU[squeeze_activation]\n",
      "  %92 : Float(1, 128, 27, 27) = onnx::Conv[dilations=[1, 1], group=1, kernel_shape=[1, 1], pads=[0, 0, 0, 0], strides=[1, 1]](%91, %23, %24), scope: SqueezeNet/Sequential[features]/Fire[7]/Conv2d[expand1x1]\n",
      "  %93 : Float(1, 128, 27, 27) = onnx::Relu(%92), scope: SqueezeNet/Sequential[features]/Fire[7]/ReLU[expand1x1_activation]\n",
      "  %94 : Float(1, 128, 27, 27) = onnx::Conv[dilations=[1, 1], group=1, kernel_shape=[3, 3], pads=[1, 1, 1, 1], strides=[1, 1]](%91, %25, %26), scope: SqueezeNet/Sequential[features]/Fire[7]/Conv2d[expand3x3]\n",
      "  %95 : Float(1, 128, 27, 27) = onnx::Relu(%94), scope: SqueezeNet/Sequential[features]/Fire[7]/ReLU[expand3x3_activation]\n",
      "  %96 : Float(1, 256, 27, 27) = onnx::Concat[axis=1](%93, %95), scope: SqueezeNet/Sequential[features]/Fire[7]\n",
      "  %97 : int[] = onnx::Constant[value= 3  3 [ CPULongType{2} ]]()\n",
      "  %98 : int[] = onnx::Constant[value= 2  2 [ CPULongType{2} ]]()\n",
      "  %99 : int[] = onnx::Constant[value= 0  0 [ CPULongType{2} ]]()\n",
      "  %100 : int[] = onnx::Constant[value= 1  1 [ CPULongType{2} ]]()\n",
      "  %101 : Long() = onnx::Constant[value={1}](), scope: SqueezeNet/Sequential[features]/MaxPool2d[8]\n",
      "  %102 : Float(1, 256, 13, 13), %103 : Long(1, 256, 13, 13) = aten::max_pool2d_with_indices(%96, %97, %98, %99, %100, %101), scope: SqueezeNet/Sequential[features]/MaxPool2d[8]\n",
      "  %104 : Float(1, 48, 13, 13) = onnx::Conv[dilations=[1, 1], group=1, kernel_shape=[1, 1], pads=[0, 0, 0, 0], strides=[1, 1]](%102, %27, %28), scope: SqueezeNet/Sequential[features]/Fire[9]/Conv2d[squeeze]\n",
      "  %105 : Float(1, 48, 13, 13) = onnx::Relu(%104), scope: SqueezeNet/Sequential[features]/Fire[9]/ReLU[squeeze_activation]\n",
      "  %106 : Float(1, 192, 13, 13) = onnx::Conv[dilations=[1, 1], group=1, kernel_shape=[1, 1], pads=[0, 0, 0, 0], strides=[1, 1]](%105, %29, %30), scope: SqueezeNet/Sequential[features]/Fire[9]/Conv2d[expand1x1]\n",
      "  %107 : Float(1, 192, 13, 13) = onnx::Relu(%106), scope: SqueezeNet/Sequential[features]/Fire[9]/ReLU[expand1x1_activation]\n",
      "  %108 : Float(1, 192, 13, 13) = onnx::Conv[dilations=[1, 1], group=1, kernel_shape=[3, 3], pads=[1, 1, 1, 1], strides=[1, 1]](%105, %31, %32), scope: SqueezeNet/Sequential[features]/Fire[9]/Conv2d[expand3x3]\n",
      "  %109 : Float(1, 192, 13, 13) = onnx::Relu(%108), scope: SqueezeNet/Sequential[features]/Fire[9]/ReLU[expand3x3_activation]\n",
      "  %110 : Float(1, 384, 13, 13) = onnx::Concat[axis=1](%107, %109), scope: SqueezeNet/Sequential[features]/Fire[9]\n",
      "  %111 : Float(1, 48, 13, 13) = onnx::Conv[dilations=[1, 1], group=1, kernel_shape=[1, 1], pads=[0, 0, 0, 0], strides=[1, 1]](%110, %33, %34), scope: SqueezeNet/Sequential[features]/Fire[10]/Conv2d[squeeze]\n",
      "  %112 : Float(1, 48, 13, 13) = onnx::Relu(%111), scope: SqueezeNet/Sequential[features]/Fire[10]/ReLU[squeeze_activation]\n",
      "  %113 : Float(1, 192, 13, 13) = onnx::Conv[dilations=[1, 1], group=1, kernel_shape=[1, 1], pads=[0, 0, 0, 0], strides=[1, 1]](%112, %35, %36), scope: SqueezeNet/Sequential[features]/Fire[10]/Conv2d[expand1x1]\n",
      "  %114 : Float(1, 192, 13, 13) = onnx::Relu(%113), scope: SqueezeNet/Sequential[features]/Fire[10]/ReLU[expand1x1_activation]\n",
      "  %115 : Float(1, 192, 13, 13) = onnx::Conv[dilations=[1, 1], group=1, kernel_shape=[3, 3], pads=[1, 1, 1, 1], strides=[1, 1]](%112, %37, %38), scope: SqueezeNet/Sequential[features]/Fire[10]/Conv2d[expand3x3]\n",
      "  %116 : Float(1, 192, 13, 13) = onnx::Relu(%115), scope: SqueezeNet/Sequential[features]/Fire[10]/ReLU[expand3x3_activation]\n",
      "  %117 : Float(1, 384, 13, 13) = onnx::Concat[axis=1](%114, %116), scope: SqueezeNet/Sequential[features]/Fire[10]\n",
      "  %118 : Float(1, 64, 13, 13) = onnx::Conv[dilations=[1, 1], group=1, kernel_shape=[1, 1], pads=[0, 0, 0, 0], strides=[1, 1]](%117, %39, %40), scope: SqueezeNet/Sequential[features]/Fire[11]/Conv2d[squeeze]\n",
      "  %119 : Float(1, 64, 13, 13) = onnx::Relu(%118), scope: SqueezeNet/Sequential[features]/Fire[11]/ReLU[squeeze_activation]\n",
      "  %120 : Float(1, 256, 13, 13) = onnx::Conv[dilations=[1, 1], group=1, kernel_shape=[1, 1], pads=[0, 0, 0, 0], strides=[1, 1]](%119, %41, %42), scope: SqueezeNet/Sequential[features]/Fire[11]/Conv2d[expand1x1]\n",
      "  %121 : Float(1, 256, 13, 13) = onnx::Relu(%120), scope: SqueezeNet/Sequential[features]/Fire[11]/ReLU[expand1x1_activation]\n",
      "  %122 : Float(1, 256, 13, 13) = onnx::Conv[dilations=[1, 1], group=1, kernel_shape=[3, 3], pads=[1, 1, 1, 1], strides=[1, 1]](%119, %43, %44), scope: SqueezeNet/Sequential[features]/Fire[11]/Conv2d[expand3x3]\n",
      "  %123 : Float(1, 256, 13, 13) = onnx::Relu(%122), scope: SqueezeNet/Sequential[features]/Fire[11]/ReLU[expand3x3_activation]\n",
      "  %124 : Float(1, 512, 13, 13) = onnx::Concat[axis=1](%121, %123), scope: SqueezeNet/Sequential[features]/Fire[11]\n",
      "  %125 : Float(1, 64, 13, 13) = onnx::Conv[dilations=[1, 1], group=1, kernel_shape=[1, 1], pads=[0, 0, 0, 0], strides=[1, 1]](%124, %45, %46), scope: SqueezeNet/Sequential[features]/Fire[12]/Conv2d[squeeze]\n",
      "  %126 : Float(1, 64, 13, 13) = onnx::Relu(%125), scope: SqueezeNet/Sequential[features]/Fire[12]/ReLU[squeeze_activation]\n",
      "  %127 : Float(1, 256, 13, 13) = onnx::Conv[dilations=[1, 1], group=1, kernel_shape=[1, 1], pads=[0, 0, 0, 0], strides=[1, 1]](%126, %47, %48), scope: SqueezeNet/Sequential[features]/Fire[12]/Conv2d[expand1x1]\n",
      "  %128 : Float(1, 256, 13, 13) = onnx::Relu(%127), scope: SqueezeNet/Sequential[features]/Fire[12]/ReLU[expand1x1_activation]\n",
      "  %129 : Float(1, 256, 13, 13) = onnx::Conv[dilations=[1, 1], group=1, kernel_shape=[3, 3], pads=[1, 1, 1, 1], strides=[1, 1]](%126, %49, %50), scope: SqueezeNet/Sequential[features]/Fire[12]/Conv2d[expand3x3]\n",
      "  %130 : Float(1, 256, 13, 13) = onnx::Relu(%129), scope: SqueezeNet/Sequential[features]/Fire[12]/ReLU[expand3x3_activation]\n",
      "  %131 : Float(1, 512, 13, 13) = onnx::Concat[axis=1](%128, %130), scope: SqueezeNet/Sequential[features]/Fire[12]\n",
      "  %132 : Float(1, 512, 13, 13), %133 : Tensor = onnx::Dropout[ratio=0.5](%131), scope: SqueezeNet/Sequential[classifier]/Dropout[0]\n",
      "  %134 : Float(1, 1, 13, 13) = onnx::Conv[dilations=[1, 1], group=1, kernel_shape=[1, 1], pads=[0, 0, 0, 0], strides=[1, 1]](%132, %51, %52), scope: SqueezeNet/Sequential[classifier]/Conv2d[1]\n",
      "  %135 : Float(1, 1, 13, 13) = onnx::Relu(%134), scope: SqueezeNet/Sequential[classifier]/ReLU[2]\n",
      "  %136 : Tensor = onnx::Pad[mode=\"constant\", pads=[0, 0, 0, 0, 0, 0, 0, 0], value=0](%135), scope: SqueezeNet/Sequential[classifier]/AvgPool2d[3]\n",
      "  %137 : Float(1, 1, 1, 1) = onnx::AveragePool[kernel_shape=[13, 13], pads=[0, 0, 0, 0], strides=[1, 1]](%136), scope: SqueezeNet/Sequential[classifier]/AvgPool2d[3]\n",
      "  %138 : Long() = onnx::Constant[value={0}](), scope: SqueezeNet\n",
      "  %139 : Tensor = onnx::Shape(%137), scope: SqueezeNet\n",
      "  %140 : Long() = onnx::Gather[axis=0](%139, %138), scope: SqueezeNet\n",
      "  %141 : Long() = onnx::Constant[value={1}](), scope: SqueezeNet\n",
      "  %142 : Tensor = onnx::Unsqueeze[axes=[0]](%140)\n",
      "  %143 : Tensor = onnx::Unsqueeze[axes=[0]](%141)\n",
      "  %144 : Tensor = onnx::Concat[axis=0](%142, %143)\n",
      "  %145 : Float(1, 1) = onnx::Reshape(%137, %144), scope: SqueezeNet\n",
      "  return (%145);\n",
      "}\n"
     ]
    },
    {
     "name": "stdout",
     "output_type": "stream",
     "text": [
      "\n"
     ]
    },
    {
     "ename": "RuntimeError",
     "evalue": "ONNX export failed: Couldn't export operator aten::max_pool2d_with_indices\n\nDefined at:\nC:\\Users\\sweetcocoa\\Anaconda3\\envs\\pt\\lib\\site-packages\\torch\\nn\\functional.py(417): max_pool2d_with_indices\nC:\\Users\\sweetcocoa\\Anaconda3\\envs\\pt\\lib\\site-packages\\torch\\nn\\functional.py(425): _max_pool2d\nC:\\Users\\sweetcocoa\\Anaconda3\\envs\\pt\\lib\\site-packages\\torch\\_jit_internal.py(132): fn\nC:\\Users\\sweetcocoa\\Anaconda3\\envs\\pt\\lib\\site-packages\\torch\\nn\\modules\\pooling.py(148): forward\nC:\\Users\\sweetcocoa\\Anaconda3\\envs\\pt\\lib\\site-packages\\torch\\nn\\modules\\module.py(477): _slow_forward\nC:\\Users\\sweetcocoa\\Anaconda3\\envs\\pt\\lib\\site-packages\\torch\\nn\\modules\\module.py(487): __call__\nC:\\Users\\sweetcocoa\\Anaconda3\\envs\\pt\\lib\\site-packages\\torch\\nn\\modules\\container.py(92): forward\nC:\\Users\\sweetcocoa\\Anaconda3\\envs\\pt\\lib\\site-packages\\torch\\nn\\modules\\module.py(477): _slow_forward\nC:\\Users\\sweetcocoa\\Anaconda3\\envs\\pt\\lib\\site-packages\\torch\\nn\\modules\\module.py(487): __call__\nC:\\Users\\sweetcocoa\\Anaconda3\\envs\\pt\\lib\\site-packages\\torchvision\\models\\squeezenet.py(99): forward\nC:\\Users\\sweetcocoa\\Anaconda3\\envs\\pt\\lib\\site-packages\\torch\\nn\\modules\\module.py(477): _slow_forward\nC:\\Users\\sweetcocoa\\Anaconda3\\envs\\pt\\lib\\site-packages\\torch\\nn\\modules\\module.py(487): __call__\nC:\\Users\\sweetcocoa\\Anaconda3\\envs\\pt\\lib\\site-packages\\torch\\jit\\__init__.py(251): forward\nC:\\Users\\sweetcocoa\\Anaconda3\\envs\\pt\\lib\\site-packages\\torch\\nn\\modules\\module.py(489): __call__\nC:\\Users\\sweetcocoa\\Anaconda3\\envs\\pt\\lib\\site-packages\\torch\\jit\\__init__.py(196): get_trace_graph\nC:\\Users\\sweetcocoa\\Anaconda3\\envs\\pt\\lib\\site-packages\\torch\\onnx\\utils.py(192): _trace_and_get_graph_from_model\nC:\\Users\\sweetcocoa\\Anaconda3\\envs\\pt\\lib\\site-packages\\torch\\onnx\\utils.py(224): _model_to_graph\nC:\\Users\\sweetcocoa\\Anaconda3\\envs\\pt\\lib\\site-packages\\torch\\onnx\\utils.py(281): _export\nC:\\Users\\sweetcocoa\\Anaconda3\\envs\\pt\\lib\\site-packages\\torch\\onnx\\utils.py(104): export\nC:\\Users\\sweetcocoa\\Anaconda3\\envs\\pt\\lib\\site-packages\\torch\\onnx\\__init__.py(27): export\n<ipython-input-147-b79bae608161>(1): <module>\nC:\\Users\\sweetcocoa\\Anaconda3\\envs\\pt\\lib\\site-packages\\IPython\\core\\interactiveshell.py(3267): run_code\nC:\\Users\\sweetcocoa\\Anaconda3\\envs\\pt\\lib\\site-packages\\IPython\\core\\interactiveshell.py(3191): run_ast_nodes\nC:\\Users\\sweetcocoa\\Anaconda3\\envs\\pt\\lib\\site-packages\\IPython\\core\\interactiveshell.py(3020): run_cell_async\nC:\\Users\\sweetcocoa\\Anaconda3\\envs\\pt\\lib\\site-packages\\IPython\\core\\async_helpers.py(67): _pseudo_sync_runner\nC:\\Users\\sweetcocoa\\Anaconda3\\envs\\pt\\lib\\site-packages\\IPython\\core\\interactiveshell.py(2845): _run_cell\nC:\\Users\\sweetcocoa\\Anaconda3\\envs\\pt\\lib\\site-packages\\IPython\\core\\interactiveshell.py(2819): run_cell\nC:\\Users\\sweetcocoa\\Anaconda3\\envs\\pt\\lib\\site-packages\\ipykernel\\zmqshell.py(536): run_cell\nC:\\Users\\sweetcocoa\\Anaconda3\\envs\\pt\\lib\\site-packages\\ipykernel\\ipkernel.py(294): do_execute\nC:\\Users\\sweetcocoa\\Anaconda3\\envs\\pt\\lib\\site-packages\\tornado\\gen.py(326): wrapper\nC:\\Users\\sweetcocoa\\Anaconda3\\envs\\pt\\lib\\site-packages\\ipykernel\\kernelbase.py(534): execute_request\nC:\\Users\\sweetcocoa\\Anaconda3\\envs\\pt\\lib\\site-packages\\tornado\\gen.py(326): wrapper\nC:\\Users\\sweetcocoa\\Anaconda3\\envs\\pt\\lib\\site-packages\\ipykernel\\kernelbase.py(267): dispatch_shell\nC:\\Users\\sweetcocoa\\Anaconda3\\envs\\pt\\lib\\site-packages\\tornado\\gen.py(326): wrapper\nC:\\Users\\sweetcocoa\\Anaconda3\\envs\\pt\\lib\\site-packages\\ipykernel\\kernelbase.py(357): process_one\nC:\\Users\\sweetcocoa\\Anaconda3\\envs\\pt\\lib\\site-packages\\tornado\\gen.py(1147): run\nC:\\Users\\sweetcocoa\\Anaconda3\\envs\\pt\\lib\\site-packages\\tornado\\gen.py(1233): inner\nC:\\Users\\sweetcocoa\\Anaconda3\\envs\\pt\\lib\\site-packages\\tornado\\stack_context.py(300): null_wrapper\nC:\\Users\\sweetcocoa\\Anaconda3\\envs\\pt\\lib\\site-packages\\tornado\\ioloop.py(758): _run_callback\nC:\\Users\\sweetcocoa\\Anaconda3\\envs\\pt\\lib\\asyncio\\events.py(145): _run\nC:\\Users\\sweetcocoa\\Anaconda3\\envs\\pt\\lib\\asyncio\\base_events.py(1440): _run_once\nC:\\Users\\sweetcocoa\\Anaconda3\\envs\\pt\\lib\\asyncio\\base_events.py(427): run_forever\nC:\\Users\\sweetcocoa\\Anaconda3\\envs\\pt\\lib\\site-packages\\tornado\\platform\\asyncio.py(132): start\nC:\\Users\\sweetcocoa\\Anaconda3\\envs\\pt\\lib\\site-packages\\ipykernel\\kernelapp.py(505): start\nC:\\Users\\sweetcocoa\\Anaconda3\\envs\\pt\\lib\\site-packages\\traitlets\\config\\application.py(658): launch_instance\nC:\\Users\\sweetcocoa\\Anaconda3\\envs\\pt\\lib\\site-packages\\ipykernel_launcher.py(16): <module>\nC:\\Users\\sweetcocoa\\Anaconda3\\envs\\pt\\lib\\runpy.py(85): _run_code\nC:\\Users\\sweetcocoa\\Anaconda3\\envs\\pt\\lib\\runpy.py(193): _run_module_as_main\n\n\nGraph we tried to export:\ngraph(%0 : Float(1, 3, 224, 224)\n      %1 : Float(64, 3, 3, 3)\n      %2 : Float(64)\n      %3 : Float(16, 64, 1, 1)\n      %4 : Float(16)\n      %5 : Float(64, 16, 1, 1)\n      %6 : Float(64)\n      %7 : Float(64, 16, 3, 3)\n      %8 : Float(64)\n      %9 : Float(16, 128, 1, 1)\n      %10 : Float(16)\n      %11 : Float(64, 16, 1, 1)\n      %12 : Float(64)\n      %13 : Float(64, 16, 3, 3)\n      %14 : Float(64)\n      %15 : Float(32, 128, 1, 1)\n      %16 : Float(32)\n      %17 : Float(128, 32, 1, 1)\n      %18 : Float(128)\n      %19 : Float(128, 32, 3, 3)\n      %20 : Float(128)\n      %21 : Float(32, 256, 1, 1)\n      %22 : Float(32)\n      %23 : Float(128, 32, 1, 1)\n      %24 : Float(128)\n      %25 : Float(128, 32, 3, 3)\n      %26 : Float(128)\n      %27 : Float(48, 256, 1, 1)\n      %28 : Float(48)\n      %29 : Float(192, 48, 1, 1)\n      %30 : Float(192)\n      %31 : Float(192, 48, 3, 3)\n      %32 : Float(192)\n      %33 : Float(48, 384, 1, 1)\n      %34 : Float(48)\n      %35 : Float(192, 48, 1, 1)\n      %36 : Float(192)\n      %37 : Float(192, 48, 3, 3)\n      %38 : Float(192)\n      %39 : Float(64, 384, 1, 1)\n      %40 : Float(64)\n      %41 : Float(256, 64, 1, 1)\n      %42 : Float(256)\n      %43 : Float(256, 64, 3, 3)\n      %44 : Float(256)\n      %45 : Float(64, 512, 1, 1)\n      %46 : Float(64)\n      %47 : Float(256, 64, 1, 1)\n      %48 : Float(256)\n      %49 : Float(256, 64, 3, 3)\n      %50 : Float(256)\n      %51 : Float(1, 512, 1, 1)\n      %52 : Float(1)) {\n  %53 : Float(1, 64, 111, 111) = onnx::Conv[dilations=[1, 1], group=1, kernel_shape=[3, 3], pads=[0, 0, 0, 0], strides=[2, 2]](%0, %1, %2), scope: SqueezeNet/Sequential[features]/Conv2d[0]\n  %54 : Float(1, 64, 111, 111) = onnx::Relu(%53), scope: SqueezeNet/Sequential[features]/ReLU[1]\n  %55 : int[] = onnx::Constant[value= 3  3 [ CPULongType{2} ]]()\n  %56 : int[] = onnx::Constant[value= 2  2 [ CPULongType{2} ]]()\n  %57 : int[] = onnx::Constant[value= 0  0 [ CPULongType{2} ]]()\n  %58 : int[] = onnx::Constant[value= 1  1 [ CPULongType{2} ]]()\n  %59 : Long() = onnx::Constant[value={1}](), scope: SqueezeNet/Sequential[features]/MaxPool2d[2]\n  %60 : Float(1, 64, 55, 55), %61 : Long(1, 64, 55, 55) = aten::max_pool2d_with_indices(%54, %55, %56, %57, %58, %59), scope: SqueezeNet/Sequential[features]/MaxPool2d[2]\n  %62 : Float(1, 16, 55, 55) = onnx::Conv[dilations=[1, 1], group=1, kernel_shape=[1, 1], pads=[0, 0, 0, 0], strides=[1, 1]](%60, %3, %4), scope: SqueezeNet/Sequential[features]/Fire[3]/Conv2d[squeeze]\n  %63 : Float(1, 16, 55, 55) = onnx::Relu(%62), scope: SqueezeNet/Sequential[features]/Fire[3]/ReLU[squeeze_activation]\n  %64 : Float(1, 64, 55, 55) = onnx::Conv[dilations=[1, 1], group=1, kernel_shape=[1, 1], pads=[0, 0, 0, 0], strides=[1, 1]](%63, %5, %6), scope: SqueezeNet/Sequential[features]/Fire[3]/Conv2d[expand1x1]\n  %65 : Float(1, 64, 55, 55) = onnx::Relu(%64), scope: SqueezeNet/Sequential[features]/Fire[3]/ReLU[expand1x1_activation]\n  %66 : Float(1, 64, 55, 55) = onnx::Conv[dilations=[1, 1], group=1, kernel_shape=[3, 3], pads=[1, 1, 1, 1], strides=[1, 1]](%63, %7, %8), scope: SqueezeNet/Sequential[features]/Fire[3]/Conv2d[expand3x3]\n  %67 : Float(1, 64, 55, 55) = onnx::Relu(%66), scope: SqueezeNet/Sequential[features]/Fire[3]/ReLU[expand3x3_activation]\n  %68 : Float(1, 128, 55, 55) = onnx::Concat[axis=1](%65, %67), scope: SqueezeNet/Sequential[features]/Fire[3]\n  %69 : Float(1, 16, 55, 55) = onnx::Conv[dilations=[1, 1], group=1, kernel_shape=[1, 1], pads=[0, 0, 0, 0], strides=[1, 1]](%68, %9, %10), scope: SqueezeNet/Sequential[features]/Fire[4]/Conv2d[squeeze]\n  %70 : Float(1, 16, 55, 55) = onnx::Relu(%69), scope: SqueezeNet/Sequential[features]/Fire[4]/ReLU[squeeze_activation]\n  %71 : Float(1, 64, 55, 55) = onnx::Conv[dilations=[1, 1], group=1, kernel_shape=[1, 1], pads=[0, 0, 0, 0], strides=[1, 1]](%70, %11, %12), scope: SqueezeNet/Sequential[features]/Fire[4]/Conv2d[expand1x1]\n  %72 : Float(1, 64, 55, 55) = onnx::Relu(%71), scope: SqueezeNet/Sequential[features]/Fire[4]/ReLU[expand1x1_activation]\n  %73 : Float(1, 64, 55, 55) = onnx::Conv[dilations=[1, 1], group=1, kernel_shape=[3, 3], pads=[1, 1, 1, 1], strides=[1, 1]](%70, %13, %14), scope: SqueezeNet/Sequential[features]/Fire[4]/Conv2d[expand3x3]\n  %74 : Float(1, 64, 55, 55) = onnx::Relu(%73), scope: SqueezeNet/Sequential[features]/Fire[4]/ReLU[expand3x3_activation]\n  %75 : Float(1, 128, 55, 55) = onnx::Concat[axis=1](%72, %74), scope: SqueezeNet/Sequential[features]/Fire[4]\n  %76 : int[] = onnx::Constant[value= 3  3 [ CPULongType{2} ]]()\n  %77 : int[] = onnx::Constant[value= 2  2 [ CPULongType{2} ]]()\n  %78 : int[] = onnx::Constant[value= 0  0 [ CPULongType{2} ]]()\n  %79 : int[] = onnx::Constant[value= 1  1 [ CPULongType{2} ]]()\n  %80 : Long() = onnx::Constant[value={1}](), scope: SqueezeNet/Sequential[features]/MaxPool2d[5]\n  %81 : Float(1, 128, 27, 27), %82 : Long(1, 128, 27, 27) = aten::max_pool2d_with_indices(%75, %76, %77, %78, %79, %80), scope: SqueezeNet/Sequential[features]/MaxPool2d[5]\n  %83 : Float(1, 32, 27, 27) = onnx::Conv[dilations=[1, 1], group=1, kernel_shape=[1, 1], pads=[0, 0, 0, 0], strides=[1, 1]](%81, %15, %16), scope: SqueezeNet/Sequential[features]/Fire[6]/Conv2d[squeeze]\n  %84 : Float(1, 32, 27, 27) = onnx::Relu(%83), scope: SqueezeNet/Sequential[features]/Fire[6]/ReLU[squeeze_activation]\n  %85 : Float(1, 128, 27, 27) = onnx::Conv[dilations=[1, 1], group=1, kernel_shape=[1, 1], pads=[0, 0, 0, 0], strides=[1, 1]](%84, %17, %18), scope: SqueezeNet/Sequential[features]/Fire[6]/Conv2d[expand1x1]\n  %86 : Float(1, 128, 27, 27) = onnx::Relu(%85), scope: SqueezeNet/Sequential[features]/Fire[6]/ReLU[expand1x1_activation]\n  %87 : Float(1, 128, 27, 27) = onnx::Conv[dilations=[1, 1], group=1, kernel_shape=[3, 3], pads=[1, 1, 1, 1], strides=[1, 1]](%84, %19, %20), scope: SqueezeNet/Sequential[features]/Fire[6]/Conv2d[expand3x3]\n  %88 : Float(1, 128, 27, 27) = onnx::Relu(%87), scope: SqueezeNet/Sequential[features]/Fire[6]/ReLU[expand3x3_activation]\n  %89 : Float(1, 256, 27, 27) = onnx::Concat[axis=1](%86, %88), scope: SqueezeNet/Sequential[features]/Fire[6]\n  %90 : Float(1, 32, 27, 27) = onnx::Conv[dilations=[1, 1], group=1, kernel_shape=[1, 1], pads=[0, 0, 0, 0], strides=[1, 1]](%89, %21, %22), scope: SqueezeNet/Sequential[features]/Fire[7]/Conv2d[squeeze]\n  %91 : Float(1, 32, 27, 27) = onnx::Relu(%90), scope: SqueezeNet/Sequential[features]/Fire[7]/ReLU[squeeze_activation]\n  %92 : Float(1, 128, 27, 27) = onnx::Conv[dilations=[1, 1], group=1, kernel_shape=[1, 1], pads=[0, 0, 0, 0], strides=[1, 1]](%91, %23, %24), scope: SqueezeNet/Sequential[features]/Fire[7]/Conv2d[expand1x1]\n  %93 : Float(1, 128, 27, 27) = onnx::Relu(%92), scope: SqueezeNet/Sequential[features]/Fire[7]/ReLU[expand1x1_activation]\n  %94 : Float(1, 128, 27, 27) = onnx::Conv[dilations=[1, 1], group=1, kernel_shape=[3, 3], pads=[1, 1, 1, 1], strides=[1, 1]](%91, %25, %26), scope: SqueezeNet/Sequential[features]/Fire[7]/Conv2d[expand3x3]\n  %95 : Float(1, 128, 27, 27) = onnx::Relu(%94), scope: SqueezeNet/Sequential[features]/Fire[7]/ReLU[expand3x3_activation]\n  %96 : Float(1, 256, 27, 27) = onnx::Concat[axis=1](%93, %95), scope: SqueezeNet/Sequential[features]/Fire[7]\n  %97 : int[] = onnx::Constant[value= 3  3 [ CPULongType{2} ]]()\n  %98 : int[] = onnx::Constant[value= 2  2 [ CPULongType{2} ]]()\n  %99 : int[] = onnx::Constant[value= 0  0 [ CPULongType{2} ]]()\n  %100 : int[] = onnx::Constant[value= 1  1 [ CPULongType{2} ]]()\n  %101 : Long() = onnx::Constant[value={1}](), scope: SqueezeNet/Sequential[features]/MaxPool2d[8]\n  %102 : Float(1, 256, 13, 13), %103 : Long(1, 256, 13, 13) = aten::max_pool2d_with_indices(%96, %97, %98, %99, %100, %101), scope: SqueezeNet/Sequential[features]/MaxPool2d[8]\n  %104 : Float(1, 48, 13, 13) = onnx::Conv[dilations=[1, 1], group=1, kernel_shape=[1, 1], pads=[0, 0, 0, 0], strides=[1, 1]](%102, %27, %28), scope: SqueezeNet/Sequential[features]/Fire[9]/Conv2d[squeeze]\n  %105 : Float(1, 48, 13, 13) = onnx::Relu(%104), scope: SqueezeNet/Sequential[features]/Fire[9]/ReLU[squeeze_activation]\n  %106 : Float(1, 192, 13, 13) = onnx::Conv[dilations=[1, 1], group=1, kernel_shape=[1, 1], pads=[0, 0, 0, 0], strides=[1, 1]](%105, %29, %30), scope: SqueezeNet/Sequential[features]/Fire[9]/Conv2d[expand1x1]\n  %107 : Float(1, 192, 13, 13) = onnx::Relu(%106), scope: SqueezeNet/Sequential[features]/Fire[9]/ReLU[expand1x1_activation]\n  %108 : Float(1, 192, 13, 13) = onnx::Conv[dilations=[1, 1], group=1, kernel_shape=[3, 3], pads=[1, 1, 1, 1], strides=[1, 1]](%105, %31, %32), scope: SqueezeNet/Sequential[features]/Fire[9]/Conv2d[expand3x3]\n  %109 : Float(1, 192, 13, 13) = onnx::Relu(%108), scope: SqueezeNet/Sequential[features]/Fire[9]/ReLU[expand3x3_activation]\n  %110 : Float(1, 384, 13, 13) = onnx::Concat[axis=1](%107, %109), scope: SqueezeNet/Sequential[features]/Fire[9]\n  %111 : Float(1, 48, 13, 13) = onnx::Conv[dilations=[1, 1], group=1, kernel_shape=[1, 1], pads=[0, 0, 0, 0], strides=[1, 1]](%110, %33, %34), scope: SqueezeNet/Sequential[features]/Fire[10]/Conv2d[squeeze]\n  %112 : Float(1, 48, 13, 13) = onnx::Relu(%111), scope: SqueezeNet/Sequential[features]/Fire[10]/ReLU[squeeze_activation]\n  %113 : Float(1, 192, 13, 13) = onnx::Conv[dilations=[1, 1], group=1, kernel_shape=[1, 1], pads=[0, 0, 0, 0], strides=[1, 1]](%112, %35, %36), scope: SqueezeNet/Sequential[features]/Fire[10]/Conv2d[expand1x1]\n  %114 : Float(1, 192, 13, 13) = onnx::Relu(%113), scope: SqueezeNet/Sequential[features]/Fire[10]/ReLU[expand1x1_activation]\n  %115 : Float(1, 192, 13, 13) = onnx::Conv[dilations=[1, 1], group=1, kernel_shape=[3, 3], pads=[1, 1, 1, 1], strides=[1, 1]](%112, %37, %38), scope: SqueezeNet/Sequential[features]/Fire[10]/Conv2d[expand3x3]\n  %116 : Float(1, 192, 13, 13) = onnx::Relu(%115), scope: SqueezeNet/Sequential[features]/Fire[10]/ReLU[expand3x3_activation]\n  %117 : Float(1, 384, 13, 13) = onnx::Concat[axis=1](%114, %116), scope: SqueezeNet/Sequential[features]/Fire[10]\n  %118 : Float(1, 64, 13, 13) = onnx::Conv[dilations=[1, 1], group=1, kernel_shape=[1, 1], pads=[0, 0, 0, 0], strides=[1, 1]](%117, %39, %40), scope: SqueezeNet/Sequential[features]/Fire[11]/Conv2d[squeeze]\n  %119 : Float(1, 64, 13, 13) = onnx::Relu(%118), scope: SqueezeNet/Sequential[features]/Fire[11]/ReLU[squeeze_activation]\n  %120 : Float(1, 256, 13, 13) = onnx::Conv[dilations=[1, 1], group=1, kernel_shape=[1, 1], pads=[0, 0, 0, 0], strides=[1, 1]](%119, %41, %42), scope: SqueezeNet/Sequential[features]/Fire[11]/Conv2d[expand1x1]\n  %121 : Float(1, 256, 13, 13) = onnx::Relu(%120), scope: SqueezeNet/Sequential[features]/Fire[11]/ReLU[expand1x1_activation]\n  %122 : Float(1, 256, 13, 13) = onnx::Conv[dilations=[1, 1], group=1, kernel_shape=[3, 3], pads=[1, 1, 1, 1], strides=[1, 1]](%119, %43, %44), scope: SqueezeNet/Sequential[features]/Fire[11]/Conv2d[expand3x3]\n  %123 : Float(1, 256, 13, 13) = onnx::Relu(%122), scope: SqueezeNet/Sequential[features]/Fire[11]/ReLU[expand3x3_activation]\n  %124 : Float(1, 512, 13, 13) = onnx::Concat[axis=1](%121, %123), scope: SqueezeNet/Sequential[features]/Fire[11]\n  %125 : Float(1, 64, 13, 13) = onnx::Conv[dilations=[1, 1], group=1, kernel_shape=[1, 1], pads=[0, 0, 0, 0], strides=[1, 1]](%124, %45, %46), scope: SqueezeNet/Sequential[features]/Fire[12]/Conv2d[squeeze]\n  %126 : Float(1, 64, 13, 13) = onnx::Relu(%125), scope: SqueezeNet/Sequential[features]/Fire[12]/ReLU[squeeze_activation]\n  %127 : Float(1, 256, 13, 13) = onnx::Conv[dilations=[1, 1], group=1, kernel_shape=[1, 1], pads=[0, 0, 0, 0], strides=[1, 1]](%126, %47, %48), scope: SqueezeNet/Sequential[features]/Fire[12]/Conv2d[expand1x1]\n  %128 : Float(1, 256, 13, 13) = onnx::Relu(%127), scope: SqueezeNet/Sequential[features]/Fire[12]/ReLU[expand1x1_activation]\n  %129 : Float(1, 256, 13, 13) = onnx::Conv[dilations=[1, 1], group=1, kernel_shape=[3, 3], pads=[1, 1, 1, 1], strides=[1, 1]](%126, %49, %50), scope: SqueezeNet/Sequential[features]/Fire[12]/Conv2d[expand3x3]\n  %130 : Float(1, 256, 13, 13) = onnx::Relu(%129), scope: SqueezeNet/Sequential[features]/Fire[12]/ReLU[expand3x3_activation]\n  %131 : Float(1, 512, 13, 13) = onnx::Concat[axis=1](%128, %130), scope: SqueezeNet/Sequential[features]/Fire[12]\n  %132 : Float(1, 512, 13, 13), %133 : Tensor = onnx::Dropout[ratio=0.5](%131), scope: SqueezeNet/Sequential[classifier]/Dropout[0]\n  %134 : Float(1, 1, 13, 13) = onnx::Conv[dilations=[1, 1], group=1, kernel_shape=[1, 1], pads=[0, 0, 0, 0], strides=[1, 1]](%132, %51, %52), scope: SqueezeNet/Sequential[classifier]/Conv2d[1]\n  %135 : Float(1, 1, 13, 13) = onnx::Relu(%134), scope: SqueezeNet/Sequential[classifier]/ReLU[2]\n  %136 : Tensor = onnx::Pad[mode=\"constant\", pads=[0, 0, 0, 0, 0, 0, 0, 0], value=0](%135), scope: SqueezeNet/Sequential[classifier]/AvgPool2d[3]\n  %137 : Float(1, 1, 1, 1) = onnx::AveragePool[kernel_shape=[13, 13], pads=[0, 0, 0, 0], strides=[1, 1]](%136), scope: SqueezeNet/Sequential[classifier]/AvgPool2d[3]\n  %138 : Long() = onnx::Constant[value={0}](), scope: SqueezeNet\n  %139 : Tensor = onnx::Shape(%137), scope: SqueezeNet\n  %140 : Long() = onnx::Gather[axis=0](%139, %138), scope: SqueezeNet\n  %141 : Long() = onnx::Constant[value={1}](), scope: SqueezeNet\n  %142 : Tensor = onnx::Unsqueeze[axes=[0]](%140)\n  %143 : Tensor = onnx::Unsqueeze[axes=[0]](%141)\n  %144 : Tensor = onnx::Concat[axis=0](%142, %143)\n  %145 : Float(1, 1) = onnx::Reshape(%137, %144), scope: SqueezeNet\n  return (%145);\n}\n",
     "output_type": "error",
     "traceback": [
      "\u001b[1;31m---------------------------------------------------------------------------\u001b[0m",
      "\u001b[1;31mRuntimeError\u001b[0m                              Traceback (most recent call last)",
      "\u001b[1;32m<ipython-input-147-b79bae608161>\u001b[0m in \u001b[0;36m<module>\u001b[1;34m\u001b[0m\n\u001b[1;32m----> 1\u001b[1;33m \u001b[0mtorch\u001b[0m\u001b[1;33m.\u001b[0m\u001b[0monnx\u001b[0m\u001b[1;33m.\u001b[0m\u001b[0mexport\u001b[0m\u001b[1;33m(\u001b[0m\u001b[0mnet\u001b[0m\u001b[1;33m,\u001b[0m \u001b[0mtrain_sets\u001b[0m\u001b[1;33m[\u001b[0m\u001b[1;36m0\u001b[0m\u001b[1;33m]\u001b[0m\u001b[1;33m[\u001b[0m\u001b[1;36m0\u001b[0m\u001b[1;33m]\u001b[0m\u001b[1;33m.\u001b[0m\u001b[0munsqueeze\u001b[0m\u001b[1;33m(\u001b[0m\u001b[1;36m0\u001b[0m\u001b[1;33m)\u001b[0m\u001b[1;33m.\u001b[0m\u001b[0mcuda\u001b[0m\u001b[1;33m(\u001b[0m\u001b[1;33m)\u001b[0m\u001b[1;33m,\u001b[0m \u001b[1;34m\"onnx_test.onnx\"\u001b[0m\u001b[1;33m,\u001b[0m \u001b[0mverbose\u001b[0m\u001b[1;33m=\u001b[0m\u001b[1;32mTrue\u001b[0m\u001b[1;33m)\u001b[0m\u001b[1;33m\u001b[0m\u001b[1;33m\u001b[0m\u001b[0m\n\u001b[0m",
      "\u001b[1;32m~\\Anaconda3\\envs\\pt\\lib\\site-packages\\torch\\onnx\\__init__.py\u001b[0m in \u001b[0;36mexport\u001b[1;34m(*args, **kwargs)\u001b[0m\n\u001b[0;32m     25\u001b[0m \u001b[1;32mdef\u001b[0m \u001b[0mexport\u001b[0m\u001b[1;33m(\u001b[0m\u001b[1;33m*\u001b[0m\u001b[0margs\u001b[0m\u001b[1;33m,\u001b[0m \u001b[1;33m**\u001b[0m\u001b[0mkwargs\u001b[0m\u001b[1;33m)\u001b[0m\u001b[1;33m:\u001b[0m\u001b[1;33m\u001b[0m\u001b[1;33m\u001b[0m\u001b[0m\n\u001b[0;32m     26\u001b[0m     \u001b[1;32mfrom\u001b[0m \u001b[0mtorch\u001b[0m\u001b[1;33m.\u001b[0m\u001b[0monnx\u001b[0m \u001b[1;32mimport\u001b[0m \u001b[0mutils\u001b[0m\u001b[1;33m\u001b[0m\u001b[1;33m\u001b[0m\u001b[0m\n\u001b[1;32m---> 27\u001b[1;33m     \u001b[1;32mreturn\u001b[0m \u001b[0mutils\u001b[0m\u001b[1;33m.\u001b[0m\u001b[0mexport\u001b[0m\u001b[1;33m(\u001b[0m\u001b[1;33m*\u001b[0m\u001b[0margs\u001b[0m\u001b[1;33m,\u001b[0m \u001b[1;33m**\u001b[0m\u001b[0mkwargs\u001b[0m\u001b[1;33m)\u001b[0m\u001b[1;33m\u001b[0m\u001b[1;33m\u001b[0m\u001b[0m\n\u001b[0m\u001b[0;32m     28\u001b[0m \u001b[1;33m\u001b[0m\u001b[0m\n\u001b[0;32m     29\u001b[0m \u001b[1;33m\u001b[0m\u001b[0m\n",
      "\u001b[1;32m~\\Anaconda3\\envs\\pt\\lib\\site-packages\\torch\\onnx\\utils.py\u001b[0m in \u001b[0;36mexport\u001b[1;34m(model, args, f, export_params, verbose, training, input_names, output_names, aten, export_raw_ir, operator_export_type)\u001b[0m\n\u001b[0;32m    102\u001b[0m             \u001b[0moperator_export_type\u001b[0m \u001b[1;33m=\u001b[0m \u001b[0mOperatorExportTypes\u001b[0m\u001b[1;33m.\u001b[0m\u001b[0mONNX\u001b[0m\u001b[1;33m\u001b[0m\u001b[1;33m\u001b[0m\u001b[0m\n\u001b[0;32m    103\u001b[0m     _export(model, args, f, export_params, verbose, training, input_names, output_names,\n\u001b[1;32m--> 104\u001b[1;33m             operator_export_type=operator_export_type)\n\u001b[0m\u001b[0;32m    105\u001b[0m \u001b[1;33m\u001b[0m\u001b[0m\n\u001b[0;32m    106\u001b[0m \u001b[1;33m\u001b[0m\u001b[0m\n",
      "\u001b[1;32m~\\Anaconda3\\envs\\pt\\lib\\site-packages\\torch\\onnx\\utils.py\u001b[0m in \u001b[0;36m_export\u001b[1;34m(model, args, f, export_params, verbose, training, input_names, output_names, operator_export_type, export_type, example_outputs, propagate)\u001b[0m\n\u001b[0;32m    285\u001b[0m     \u001b[0mdefer_weight_export\u001b[0m \u001b[1;33m=\u001b[0m \u001b[0mexport_type\u001b[0m \u001b[1;32mis\u001b[0m \u001b[1;32mnot\u001b[0m \u001b[0mExportTypes\u001b[0m\u001b[1;33m.\u001b[0m\u001b[0mPROTOBUF_FILE\u001b[0m\u001b[1;33m\u001b[0m\u001b[1;33m\u001b[0m\u001b[0m\n\u001b[0;32m    286\u001b[0m     \u001b[1;32mif\u001b[0m \u001b[0mexport_params\u001b[0m\u001b[1;33m:\u001b[0m\u001b[1;33m\u001b[0m\u001b[1;33m\u001b[0m\u001b[0m\n\u001b[1;32m--> 287\u001b[1;33m         \u001b[0mproto\u001b[0m\u001b[1;33m,\u001b[0m \u001b[0mexport_map\u001b[0m \u001b[1;33m=\u001b[0m \u001b[0mgraph\u001b[0m\u001b[1;33m.\u001b[0m\u001b[0m_export_onnx\u001b[0m\u001b[1;33m(\u001b[0m\u001b[0mparams\u001b[0m\u001b[1;33m,\u001b[0m \u001b[0m_onnx_opset_version\u001b[0m\u001b[1;33m,\u001b[0m \u001b[0mdefer_weight_export\u001b[0m\u001b[1;33m,\u001b[0m \u001b[0moperator_export_type\u001b[0m\u001b[1;33m)\u001b[0m\u001b[1;33m\u001b[0m\u001b[1;33m\u001b[0m\u001b[0m\n\u001b[0m\u001b[0;32m    288\u001b[0m     \u001b[1;32melse\u001b[0m\u001b[1;33m:\u001b[0m\u001b[1;33m\u001b[0m\u001b[1;33m\u001b[0m\u001b[0m\n\u001b[0;32m    289\u001b[0m         \u001b[0mproto\u001b[0m\u001b[1;33m,\u001b[0m \u001b[0mexport_map\u001b[0m \u001b[1;33m=\u001b[0m \u001b[0mgraph\u001b[0m\u001b[1;33m.\u001b[0m\u001b[0m_export_onnx\u001b[0m\u001b[1;33m(\u001b[0m\u001b[1;33m[\u001b[0m\u001b[1;33m]\u001b[0m\u001b[1;33m,\u001b[0m \u001b[0m_onnx_opset_version\u001b[0m\u001b[1;33m,\u001b[0m \u001b[1;32mFalse\u001b[0m\u001b[1;33m,\u001b[0m \u001b[0moperator_export_type\u001b[0m\u001b[1;33m)\u001b[0m\u001b[1;33m\u001b[0m\u001b[1;33m\u001b[0m\u001b[0m\n",
      "\u001b[1;31mRuntimeError\u001b[0m: ONNX export failed: Couldn't export operator aten::max_pool2d_with_indices\n\nDefined at:\nC:\\Users\\sweetcocoa\\Anaconda3\\envs\\pt\\lib\\site-packages\\torch\\nn\\functional.py(417): max_pool2d_with_indices\nC:\\Users\\sweetcocoa\\Anaconda3\\envs\\pt\\lib\\site-packages\\torch\\nn\\functional.py(425): _max_pool2d\nC:\\Users\\sweetcocoa\\Anaconda3\\envs\\pt\\lib\\site-packages\\torch\\_jit_internal.py(132): fn\nC:\\Users\\sweetcocoa\\Anaconda3\\envs\\pt\\lib\\site-packages\\torch\\nn\\modules\\pooling.py(148): forward\nC:\\Users\\sweetcocoa\\Anaconda3\\envs\\pt\\lib\\site-packages\\torch\\nn\\modules\\module.py(477): _slow_forward\nC:\\Users\\sweetcocoa\\Anaconda3\\envs\\pt\\lib\\site-packages\\torch\\nn\\modules\\module.py(487): __call__\nC:\\Users\\sweetcocoa\\Anaconda3\\envs\\pt\\lib\\site-packages\\torch\\nn\\modules\\container.py(92): forward\nC:\\Users\\sweetcocoa\\Anaconda3\\envs\\pt\\lib\\site-packages\\torch\\nn\\modules\\module.py(477): _slow_forward\nC:\\Users\\sweetcocoa\\Anaconda3\\envs\\pt\\lib\\site-packages\\torch\\nn\\modules\\module.py(487): __call__\nC:\\Users\\sweetcocoa\\Anaconda3\\envs\\pt\\lib\\site-packages\\torchvision\\models\\squeezenet.py(99): forward\nC:\\Users\\sweetcocoa\\Anaconda3\\envs\\pt\\lib\\site-packages\\torch\\nn\\modules\\module.py(477): _slow_forward\nC:\\Users\\sweetcocoa\\Anaconda3\\envs\\pt\\lib\\site-packages\\torch\\nn\\modules\\module.py(487): __call__\nC:\\Users\\sweetcocoa\\Anaconda3\\envs\\pt\\lib\\site-packages\\torch\\jit\\__init__.py(251): forward\nC:\\Users\\sweetcocoa\\Anaconda3\\envs\\pt\\lib\\site-packages\\torch\\nn\\modules\\module.py(489): __call__\nC:\\Users\\sweetcocoa\\Anaconda3\\envs\\pt\\lib\\site-packages\\torch\\jit\\__init__.py(196): get_trace_graph\nC:\\Users\\sweetcocoa\\Anaconda3\\envs\\pt\\lib\\site-packages\\torch\\onnx\\utils.py(192): _trace_and_get_graph_from_model\nC:\\Users\\sweetcocoa\\Anaconda3\\envs\\pt\\lib\\site-packages\\torch\\onnx\\utils.py(224): _model_to_graph\nC:\\Users\\sweetcocoa\\Anaconda3\\envs\\pt\\lib\\site-packages\\torch\\onnx\\utils.py(281): _export\nC:\\Users\\sweetcocoa\\Anaconda3\\envs\\pt\\lib\\site-packages\\torch\\onnx\\utils.py(104): export\nC:\\Users\\sweetcocoa\\Anaconda3\\envs\\pt\\lib\\site-packages\\torch\\onnx\\__init__.py(27): export\n<ipython-input-147-b79bae608161>(1): <module>\nC:\\Users\\sweetcocoa\\Anaconda3\\envs\\pt\\lib\\site-packages\\IPython\\core\\interactiveshell.py(3267): run_code\nC:\\Users\\sweetcocoa\\Anaconda3\\envs\\pt\\lib\\site-packages\\IPython\\core\\interactiveshell.py(3191): run_ast_nodes\nC:\\Users\\sweetcocoa\\Anaconda3\\envs\\pt\\lib\\site-packages\\IPython\\core\\interactiveshell.py(3020): run_cell_async\nC:\\Users\\sweetcocoa\\Anaconda3\\envs\\pt\\lib\\site-packages\\IPython\\core\\async_helpers.py(67): _pseudo_sync_runner\nC:\\Users\\sweetcocoa\\Anaconda3\\envs\\pt\\lib\\site-packages\\IPython\\core\\interactiveshell.py(2845): _run_cell\nC:\\Users\\sweetcocoa\\Anaconda3\\envs\\pt\\lib\\site-packages\\IPython\\core\\interactiveshell.py(2819): run_cell\nC:\\Users\\sweetcocoa\\Anaconda3\\envs\\pt\\lib\\site-packages\\ipykernel\\zmqshell.py(536): run_cell\nC:\\Users\\sweetcocoa\\Anaconda3\\envs\\pt\\lib\\site-packages\\ipykernel\\ipkernel.py(294): do_execute\nC:\\Users\\sweetcocoa\\Anaconda3\\envs\\pt\\lib\\site-packages\\tornado\\gen.py(326): wrapper\nC:\\Users\\sweetcocoa\\Anaconda3\\envs\\pt\\lib\\site-packages\\ipykernel\\kernelbase.py(534): execute_request\nC:\\Users\\sweetcocoa\\Anaconda3\\envs\\pt\\lib\\site-packages\\tornado\\gen.py(326): wrapper\nC:\\Users\\sweetcocoa\\Anaconda3\\envs\\pt\\lib\\site-packages\\ipykernel\\kernelbase.py(267): dispatch_shell\nC:\\Users\\sweetcocoa\\Anaconda3\\envs\\pt\\lib\\site-packages\\tornado\\gen.py(326): wrapper\nC:\\Users\\sweetcocoa\\Anaconda3\\envs\\pt\\lib\\site-packages\\ipykernel\\kernelbase.py(357): process_one\nC:\\Users\\sweetcocoa\\Anaconda3\\envs\\pt\\lib\\site-packages\\tornado\\gen.py(1147): run\nC:\\Users\\sweetcocoa\\Anaconda3\\envs\\pt\\lib\\site-packages\\tornado\\gen.py(1233): inner\nC:\\Users\\sweetcocoa\\Anaconda3\\envs\\pt\\lib\\site-packages\\tornado\\stack_context.py(300): null_wrapper\nC:\\Users\\sweetcocoa\\Anaconda3\\envs\\pt\\lib\\site-packages\\tornado\\ioloop.py(758): _run_callback\nC:\\Users\\sweetcocoa\\Anaconda3\\envs\\pt\\lib\\asyncio\\events.py(145): _run\nC:\\Users\\sweetcocoa\\Anaconda3\\envs\\pt\\lib\\asyncio\\base_events.py(1440): _run_once\nC:\\Users\\sweetcocoa\\Anaconda3\\envs\\pt\\lib\\asyncio\\base_events.py(427): run_forever\nC:\\Users\\sweetcocoa\\Anaconda3\\envs\\pt\\lib\\site-packages\\tornado\\platform\\asyncio.py(132): start\nC:\\Users\\sweetcocoa\\Anaconda3\\envs\\pt\\lib\\site-packages\\ipykernel\\kernelapp.py(505): start\nC:\\Users\\sweetcocoa\\Anaconda3\\envs\\pt\\lib\\site-packages\\traitlets\\config\\application.py(658): launch_instance\nC:\\Users\\sweetcocoa\\Anaconda3\\envs\\pt\\lib\\site-packages\\ipykernel_launcher.py(16): <module>\nC:\\Users\\sweetcocoa\\Anaconda3\\envs\\pt\\lib\\runpy.py(85): _run_code\nC:\\Users\\sweetcocoa\\Anaconda3\\envs\\pt\\lib\\runpy.py(193): _run_module_as_main\n\n\nGraph we tried to export:\ngraph(%0 : Float(1, 3, 224, 224)\n      %1 : Float(64, 3, 3, 3)\n      %2 : Float(64)\n      %3 : Float(16, 64, 1, 1)\n      %4 : Float(16)\n      %5 : Float(64, 16, 1, 1)\n      %6 : Float(64)\n      %7 : Float(64, 16, 3, 3)\n      %8 : Float(64)\n      %9 : Float(16, 128, 1, 1)\n      %10 : Float(16)\n      %11 : Float(64, 16, 1, 1)\n      %12 : Float(64)\n      %13 : Float(64, 16, 3, 3)\n      %14 : Float(64)\n      %15 : Float(32, 128, 1, 1)\n      %16 : Float(32)\n      %17 : Float(128, 32, 1, 1)\n      %18 : Float(128)\n      %19 : Float(128, 32, 3, 3)\n      %20 : Float(128)\n      %21 : Float(32, 256, 1, 1)\n      %22 : Float(32)\n      %23 : Float(128, 32, 1, 1)\n      %24 : Float(128)\n      %25 : Float(128, 32, 3, 3)\n      %26 : Float(128)\n      %27 : Float(48, 256, 1, 1)\n      %28 : Float(48)\n      %29 : Float(192, 48, 1, 1)\n      %30 : Float(192)\n      %31 : Float(192, 48, 3, 3)\n      %32 : Float(192)\n      %33 : Float(48, 384, 1, 1)\n      %34 : Float(48)\n      %35 : Float(192, 48, 1, 1)\n      %36 : Float(192)\n      %37 : Float(192, 48, 3, 3)\n      %38 : Float(192)\n      %39 : Float(64, 384, 1, 1)\n      %40 : Float(64)\n      %41 : Float(256, 64, 1, 1)\n      %42 : Float(256)\n      %43 : Float(256, 64, 3, 3)\n      %44 : Float(256)\n      %45 : Float(64, 512, 1, 1)\n      %46 : Float(64)\n      %47 : Float(256, 64, 1, 1)\n      %48 : Float(256)\n      %49 : Float(256, 64, 3, 3)\n      %50 : Float(256)\n      %51 : Float(1, 512, 1, 1)\n      %52 : Float(1)) {\n  %53 : Float(1, 64, 111, 111) = onnx::Conv[dilations=[1, 1], group=1, kernel_shape=[3, 3], pads=[0, 0, 0, 0], strides=[2, 2]](%0, %1, %2), scope: SqueezeNet/Sequential[features]/Conv2d[0]\n  %54 : Float(1, 64, 111, 111) = onnx::Relu(%53), scope: SqueezeNet/Sequential[features]/ReLU[1]\n  %55 : int[] = onnx::Constant[value= 3  3 [ CPULongType{2} ]]()\n  %56 : int[] = onnx::Constant[value= 2  2 [ CPULongType{2} ]]()\n  %57 : int[] = onnx::Constant[value= 0  0 [ CPULongType{2} ]]()\n  %58 : int[] = onnx::Constant[value= 1  1 [ CPULongType{2} ]]()\n  %59 : Long() = onnx::Constant[value={1}](), scope: SqueezeNet/Sequential[features]/MaxPool2d[2]\n  %60 : Float(1, 64, 55, 55), %61 : Long(1, 64, 55, 55) = aten::max_pool2d_with_indices(%54, %55, %56, %57, %58, %59), scope: SqueezeNet/Sequential[features]/MaxPool2d[2]\n  %62 : Float(1, 16, 55, 55) = onnx::Conv[dilations=[1, 1], group=1, kernel_shape=[1, 1], pads=[0, 0, 0, 0], strides=[1, 1]](%60, %3, %4), scope: SqueezeNet/Sequential[features]/Fire[3]/Conv2d[squeeze]\n  %63 : Float(1, 16, 55, 55) = onnx::Relu(%62), scope: SqueezeNet/Sequential[features]/Fire[3]/ReLU[squeeze_activation]\n  %64 : Float(1, 64, 55, 55) = onnx::Conv[dilations=[1, 1], group=1, kernel_shape=[1, 1], pads=[0, 0, 0, 0], strides=[1, 1]](%63, %5, %6), scope: SqueezeNet/Sequential[features]/Fire[3]/Conv2d[expand1x1]\n  %65 : Float(1, 64, 55, 55) = onnx::Relu(%64), scope: SqueezeNet/Sequential[features]/Fire[3]/ReLU[expand1x1_activation]\n  %66 : Float(1, 64, 55, 55) = onnx::Conv[dilations=[1, 1], group=1, kernel_shape=[3, 3], pads=[1, 1, 1, 1], strides=[1, 1]](%63, %7, %8), scope: SqueezeNet/Sequential[features]/Fire[3]/Conv2d[expand3x3]\n  %67 : Float(1, 64, 55, 55) = onnx::Relu(%66), scope: SqueezeNet/Sequential[features]/Fire[3]/ReLU[expand3x3_activation]\n  %68 : Float(1, 128, 55, 55) = onnx::Concat[axis=1](%65, %67), scope: SqueezeNet/Sequential[features]/Fire[3]\n  %69 : Float(1, 16, 55, 55) = onnx::Conv[dilations=[1, 1], group=1, kernel_shape=[1, 1], pads=[0, 0, 0, 0], strides=[1, 1]](%68, %9, %10), scope: SqueezeNet/Sequential[features]/Fire[4]/Conv2d[squeeze]\n  %70 : Float(1, 16, 55, 55) = onnx::Relu(%69), scope: SqueezeNet/Sequential[features]/Fire[4]/ReLU[squeeze_activation]\n  %71 : Float(1, 64, 55, 55) = onnx::Conv[dilations=[1, 1], group=1, kernel_shape=[1, 1], pads=[0, 0, 0, 0], strides=[1, 1]](%70, %11, %12), scope: SqueezeNet/Sequential[features]/Fire[4]/Conv2d[expand1x1]\n  %72 : Float(1, 64, 55, 55) = onnx::Relu(%71), scope: SqueezeNet/Sequential[features]/Fire[4]/ReLU[expand1x1_activation]\n  %73 : Float(1, 64, 55, 55) = onnx::Conv[dilations=[1, 1], group=1, kernel_shape=[3, 3], pads=[1, 1, 1, 1], strides=[1, 1]](%70, %13, %14), scope: SqueezeNet/Sequential[features]/Fire[4]/Conv2d[expand3x3]\n  %74 : Float(1, 64, 55, 55) = onnx::Relu(%73), scope: SqueezeNet/Sequential[features]/Fire[4]/ReLU[expand3x3_activation]\n  %75 : Float(1, 128, 55, 55) = onnx::Concat[axis=1](%72, %74), scope: SqueezeNet/Sequential[features]/Fire[4]\n  %76 : int[] = onnx::Constant[value= 3  3 [ CPULongType{2} ]]()\n  %77 : int[] = onnx::Constant[value= 2  2 [ CPULongType{2} ]]()\n  %78 : int[] = onnx::Constant[value= 0  0 [ CPULongType{2} ]]()\n  %79 : int[] = onnx::Constant[value= 1  1 [ CPULongType{2} ]]()\n  %80 : Long() = onnx::Constant[value={1}](), scope: SqueezeNet/Sequential[features]/MaxPool2d[5]\n  %81 : Float(1, 128, 27, 27), %82 : Long(1, 128, 27, 27) = aten::max_pool2d_with_indices(%75, %76, %77, %78, %79, %80), scope: SqueezeNet/Sequential[features]/MaxPool2d[5]\n  %83 : Float(1, 32, 27, 27) = onnx::Conv[dilations=[1, 1], group=1, kernel_shape=[1, 1], pads=[0, 0, 0, 0], strides=[1, 1]](%81, %15, %16), scope: SqueezeNet/Sequential[features]/Fire[6]/Conv2d[squeeze]\n  %84 : Float(1, 32, 27, 27) = onnx::Relu(%83), scope: SqueezeNet/Sequential[features]/Fire[6]/ReLU[squeeze_activation]\n  %85 : Float(1, 128, 27, 27) = onnx::Conv[dilations=[1, 1], group=1, kernel_shape=[1, 1], pads=[0, 0, 0, 0], strides=[1, 1]](%84, %17, %18), scope: SqueezeNet/Sequential[features]/Fire[6]/Conv2d[expand1x1]\n  %86 : Float(1, 128, 27, 27) = onnx::Relu(%85), scope: SqueezeNet/Sequential[features]/Fire[6]/ReLU[expand1x1_activation]\n  %87 : Float(1, 128, 27, 27) = onnx::Conv[dilations=[1, 1], group=1, kernel_shape=[3, 3], pads=[1, 1, 1, 1], strides=[1, 1]](%84, %19, %20), scope: SqueezeNet/Sequential[features]/Fire[6]/Conv2d[expand3x3]\n  %88 : Float(1, 128, 27, 27) = onnx::Relu(%87), scope: SqueezeNet/Sequential[features]/Fire[6]/ReLU[expand3x3_activation]\n  %89 : Float(1, 256, 27, 27) = onnx::Concat[axis=1](%86, %88), scope: SqueezeNet/Sequential[features]/Fire[6]\n  %90 : Float(1, 32, 27, 27) = onnx::Conv[dilations=[1, 1], group=1, kernel_shape=[1, 1], pads=[0, 0, 0, 0], strides=[1, 1]](%89, %21, %22), scope: SqueezeNet/Sequential[features]/Fire[7]/Conv2d[squeeze]\n  %91 : Float(1, 32, 27, 27) = onnx::Relu(%90), scope: SqueezeNet/Sequential[features]/Fire[7]/ReLU[squeeze_activation]\n  %92 : Float(1, 128, 27, 27) = onnx::Conv[dilations=[1, 1], group=1, kernel_shape=[1, 1], pads=[0, 0, 0, 0], strides=[1, 1]](%91, %23, %24), scope: SqueezeNet/Sequential[features]/Fire[7]/Conv2d[expand1x1]\n  %93 : Float(1, 128, 27, 27) = onnx::Relu(%92), scope: SqueezeNet/Sequential[features]/Fire[7]/ReLU[expand1x1_activation]\n  %94 : Float(1, 128, 27, 27) = onnx::Conv[dilations=[1, 1], group=1, kernel_shape=[3, 3], pads=[1, 1, 1, 1], strides=[1, 1]](%91, %25, %26), scope: SqueezeNet/Sequential[features]/Fire[7]/Conv2d[expand3x3]\n  %95 : Float(1, 128, 27, 27) = onnx::Relu(%94), scope: SqueezeNet/Sequential[features]/Fire[7]/ReLU[expand3x3_activation]\n  %96 : Float(1, 256, 27, 27) = onnx::Concat[axis=1](%93, %95), scope: SqueezeNet/Sequential[features]/Fire[7]\n  %97 : int[] = onnx::Constant[value= 3  3 [ CPULongType{2} ]]()\n  %98 : int[] = onnx::Constant[value= 2  2 [ CPULongType{2} ]]()\n  %99 : int[] = onnx::Constant[value= 0  0 [ CPULongType{2} ]]()\n  %100 : int[] = onnx::Constant[value= 1  1 [ CPULongType{2} ]]()\n  %101 : Long() = onnx::Constant[value={1}](), scope: SqueezeNet/Sequential[features]/MaxPool2d[8]\n  %102 : Float(1, 256, 13, 13), %103 : Long(1, 256, 13, 13) = aten::max_pool2d_with_indices(%96, %97, %98, %99, %100, %101), scope: SqueezeNet/Sequential[features]/MaxPool2d[8]\n  %104 : Float(1, 48, 13, 13) = onnx::Conv[dilations=[1, 1], group=1, kernel_shape=[1, 1], pads=[0, 0, 0, 0], strides=[1, 1]](%102, %27, %28), scope: SqueezeNet/Sequential[features]/Fire[9]/Conv2d[squeeze]\n  %105 : Float(1, 48, 13, 13) = onnx::Relu(%104), scope: SqueezeNet/Sequential[features]/Fire[9]/ReLU[squeeze_activation]\n  %106 : Float(1, 192, 13, 13) = onnx::Conv[dilations=[1, 1], group=1, kernel_shape=[1, 1], pads=[0, 0, 0, 0], strides=[1, 1]](%105, %29, %30), scope: SqueezeNet/Sequential[features]/Fire[9]/Conv2d[expand1x1]\n  %107 : Float(1, 192, 13, 13) = onnx::Relu(%106), scope: SqueezeNet/Sequential[features]/Fire[9]/ReLU[expand1x1_activation]\n  %108 : Float(1, 192, 13, 13) = onnx::Conv[dilations=[1, 1], group=1, kernel_shape=[3, 3], pads=[1, 1, 1, 1], strides=[1, 1]](%105, %31, %32), scope: SqueezeNet/Sequential[features]/Fire[9]/Conv2d[expand3x3]\n  %109 : Float(1, 192, 13, 13) = onnx::Relu(%108), scope: SqueezeNet/Sequential[features]/Fire[9]/ReLU[expand3x3_activation]\n  %110 : Float(1, 384, 13, 13) = onnx::Concat[axis=1](%107, %109), scope: SqueezeNet/Sequential[features]/Fire[9]\n  %111 : Float(1, 48, 13, 13) = onnx::Conv[dilations=[1, 1], group=1, kernel_shape=[1, 1], pads=[0, 0, 0, 0], strides=[1, 1]](%110, %33, %34), scope: SqueezeNet/Sequential[features]/Fire[10]/Conv2d[squeeze]\n  %112 : Float(1, 48, 13, 13) = onnx::Relu(%111), scope: SqueezeNet/Sequential[features]/Fire[10]/ReLU[squeeze_activation]\n  %113 : Float(1, 192, 13, 13) = onnx::Conv[dilations=[1, 1], group=1, kernel_shape=[1, 1], pads=[0, 0, 0, 0], strides=[1, 1]](%112, %35, %36), scope: SqueezeNet/Sequential[features]/Fire[10]/Conv2d[expand1x1]\n  %114 : Float(1, 192, 13, 13) = onnx::Relu(%113), scope: SqueezeNet/Sequential[features]/Fire[10]/ReLU[expand1x1_activation]\n  %115 : Float(1, 192, 13, 13) = onnx::Conv[dilations=[1, 1], group=1, kernel_shape=[3, 3], pads=[1, 1, 1, 1], strides=[1, 1]](%112, %37, %38), scope: SqueezeNet/Sequential[features]/Fire[10]/Conv2d[expand3x3]\n  %116 : Float(1, 192, 13, 13) = onnx::Relu(%115), scope: SqueezeNet/Sequential[features]/Fire[10]/ReLU[expand3x3_activation]\n  %117 : Float(1, 384, 13, 13) = onnx::Concat[axis=1](%114, %116), scope: SqueezeNet/Sequential[features]/Fire[10]\n  %118 : Float(1, 64, 13, 13) = onnx::Conv[dilations=[1, 1], group=1, kernel_shape=[1, 1], pads=[0, 0, 0, 0], strides=[1, 1]](%117, %39, %40), scope: SqueezeNet/Sequential[features]/Fire[11]/Conv2d[squeeze]\n  %119 : Float(1, 64, 13, 13) = onnx::Relu(%118), scope: SqueezeNet/Sequential[features]/Fire[11]/ReLU[squeeze_activation]\n  %120 : Float(1, 256, 13, 13) = onnx::Conv[dilations=[1, 1], group=1, kernel_shape=[1, 1], pads=[0, 0, 0, 0], strides=[1, 1]](%119, %41, %42), scope: SqueezeNet/Sequential[features]/Fire[11]/Conv2d[expand1x1]\n  %121 : Float(1, 256, 13, 13) = onnx::Relu(%120), scope: SqueezeNet/Sequential[features]/Fire[11]/ReLU[expand1x1_activation]\n  %122 : Float(1, 256, 13, 13) = onnx::Conv[dilations=[1, 1], group=1, kernel_shape=[3, 3], pads=[1, 1, 1, 1], strides=[1, 1]](%119, %43, %44), scope: SqueezeNet/Sequential[features]/Fire[11]/Conv2d[expand3x3]\n  %123 : Float(1, 256, 13, 13) = onnx::Relu(%122), scope: SqueezeNet/Sequential[features]/Fire[11]/ReLU[expand3x3_activation]\n  %124 : Float(1, 512, 13, 13) = onnx::Concat[axis=1](%121, %123), scope: SqueezeNet/Sequential[features]/Fire[11]\n  %125 : Float(1, 64, 13, 13) = onnx::Conv[dilations=[1, 1], group=1, kernel_shape=[1, 1], pads=[0, 0, 0, 0], strides=[1, 1]](%124, %45, %46), scope: SqueezeNet/Sequential[features]/Fire[12]/Conv2d[squeeze]\n  %126 : Float(1, 64, 13, 13) = onnx::Relu(%125), scope: SqueezeNet/Sequential[features]/Fire[12]/ReLU[squeeze_activation]\n  %127 : Float(1, 256, 13, 13) = onnx::Conv[dilations=[1, 1], group=1, kernel_shape=[1, 1], pads=[0, 0, 0, 0], strides=[1, 1]](%126, %47, %48), scope: SqueezeNet/Sequential[features]/Fire[12]/Conv2d[expand1x1]\n  %128 : Float(1, 256, 13, 13) = onnx::Relu(%127), scope: SqueezeNet/Sequential[features]/Fire[12]/ReLU[expand1x1_activation]\n  %129 : Float(1, 256, 13, 13) = onnx::Conv[dilations=[1, 1], group=1, kernel_shape=[3, 3], pads=[1, 1, 1, 1], strides=[1, 1]](%126, %49, %50), scope: SqueezeNet/Sequential[features]/Fire[12]/Conv2d[expand3x3]\n  %130 : Float(1, 256, 13, 13) = onnx::Relu(%129), scope: SqueezeNet/Sequential[features]/Fire[12]/ReLU[expand3x3_activation]\n  %131 : Float(1, 512, 13, 13) = onnx::Concat[axis=1](%128, %130), scope: SqueezeNet/Sequential[features]/Fire[12]\n  %132 : Float(1, 512, 13, 13), %133 : Tensor = onnx::Dropout[ratio=0.5](%131), scope: SqueezeNet/Sequential[classifier]/Dropout[0]\n  %134 : Float(1, 1, 13, 13) = onnx::Conv[dilations=[1, 1], group=1, kernel_shape=[1, 1], pads=[0, 0, 0, 0], strides=[1, 1]](%132, %51, %52), scope: SqueezeNet/Sequential[classifier]/Conv2d[1]\n  %135 : Float(1, 1, 13, 13) = onnx::Relu(%134), scope: SqueezeNet/Sequential[classifier]/ReLU[2]\n  %136 : Tensor = onnx::Pad[mode=\"constant\", pads=[0, 0, 0, 0, 0, 0, 0, 0], value=0](%135), scope: SqueezeNet/Sequential[classifier]/AvgPool2d[3]\n  %137 : Float(1, 1, 1, 1) = onnx::AveragePool[kernel_shape=[13, 13], pads=[0, 0, 0, 0], strides=[1, 1]](%136), scope: SqueezeNet/Sequential[classifier]/AvgPool2d[3]\n  %138 : Long() = onnx::Constant[value={0}](), scope: SqueezeNet\n  %139 : Tensor = onnx::Shape(%137), scope: SqueezeNet\n  %140 : Long() = onnx::Gather[axis=0](%139, %138), scope: SqueezeNet\n  %141 : Long() = onnx::Constant[value={1}](), scope: SqueezeNet\n  %142 : Tensor = onnx::Unsqueeze[axes=[0]](%140)\n  %143 : Tensor = onnx::Unsqueeze[axes=[0]](%141)\n  %144 : Tensor = onnx::Concat[axis=0](%142, %143)\n  %145 : Float(1, 1) = onnx::Reshape(%137, %144), scope: SqueezeNet\n  return (%145);\n}\n"
     ]
    }
   ],
   "source": [
    "torch.onnx.export(net, train_sets[0][0].unsqueeze(0).cuda(), \"onnx_test.onnx\", verbose=True)"
   ]
  },
  {
   "cell_type": "code",
   "execution_count": null,
   "metadata": {},
   "outputs": [],
   "source": []
  }
 ],
 "metadata": {
  "kernelspec": {
   "display_name": "Python [conda env:pt]",
   "language": "python",
   "name": "conda-env-pt-py"
  },
  "language_info": {
   "codemirror_mode": {
    "name": "ipython",
    "version": 3
   },
   "file_extension": ".py",
   "mimetype": "text/x-python",
   "name": "python",
   "nbconvert_exporter": "python",
   "pygments_lexer": "ipython3",
   "version": "3.6.7"
  }
 },
 "nbformat": 4,
 "nbformat_minor": 2
}
